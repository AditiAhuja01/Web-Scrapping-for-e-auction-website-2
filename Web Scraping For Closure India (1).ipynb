{
 "cells": [
  {
   "cell_type": "code",
   "execution_count": 120,
   "id": "22e377ce",
   "metadata": {},
   "outputs": [],
   "source": [
    "import pandas as pd\n",
    "import requests\n",
    "from bs4 import BeautifulSoup"
   ]
  },
  {
   "cell_type": "code",
   "execution_count": 136,
   "id": "ee28c884",
   "metadata": {},
   "outputs": [],
   "source": [
    "headers={'User-Agent':'Mozilla/5.0 (Windows NT 6.3; Win 64 ; x64) Apple WeKit /537.36(KHTML , like Gecko) Chrome/80.0.3987.162 Safari/537.36'}\n",
    "webpage=requests.get('https://www.foreclosureindia.com/bank-auctions/amssam/1',headers=headers).text"
   ]
  },
  {
   "cell_type": "code",
   "execution_count": 137,
   "id": "14450fb3",
   "metadata": {},
   "outputs": [],
   "source": [
    "soup=BeautifulSoup(webpage,'lxml')"
   ]
  },
  {
   "cell_type": "code",
   "execution_count": 138,
   "id": "796fb658",
   "metadata": {},
   "outputs": [],
   "source": [
    "Auction=soup.find_all('tr',class_='top aligned')"
   ]
  },
  {
   "cell_type": "code",
   "execution_count": 139,
   "id": "d2fd6c22",
   "metadata": {},
   "outputs": [
    {
     "data": {
      "text/plain": [
       "10"
      ]
     },
     "execution_count": 139,
     "metadata": {},
     "output_type": "execute_result"
    }
   ],
   "source": [
    "len(Auction)"
   ]
  },
  {
   "cell_type": "code",
   "execution_count": 140,
   "id": "97af8c1d",
   "metadata": {},
   "outputs": [
    {
     "name": "stdout",
     "output_type": "stream",
     "text": [
      "1291371\n"
     ]
    }
   ],
   "source": [
    "Auction_ID=soup.find('h4',class_='ui center aligned header').text\n",
    "print(Auction_ID)"
   ]
  },
  {
   "cell_type": "code",
   "execution_count": 141,
   "id": "ad32ee4f",
   "metadata": {
    "scrolled": true
   },
   "outputs": [
    {
     "name": "stdout",
     "output_type": "stream",
     "text": [
      "Tata Capital Housing Finance ltd.\n"
     ]
    }
   ],
   "source": [
    "Bank=soup.find_all('td')[1].text.strip()\n",
    "print(Bank)"
   ]
  },
  {
   "cell_type": "code",
   "execution_count": 142,
   "id": "52eca501",
   "metadata": {},
   "outputs": [
    {
     "name": "stdout",
     "output_type": "stream",
     "text": [
      "Land and Building\n"
     ]
    }
   ],
   "source": [
    "Property_Details=soup.find_all('td')[2].text.strip()\n",
    "print(Property_Details)"
   ]
  },
  {
   "cell_type": "code",
   "execution_count": 143,
   "id": "475789a4",
   "metadata": {},
   "outputs": [
    {
     "name": "stdout",
     "output_type": "stream",
     "text": [
      "Kochi\n"
     ]
    }
   ],
   "source": [
    "Application_Deadline=soup.find_all('td')[3].text.strip()\n",
    "print(Application_Deadline)"
   ]
  },
  {
   "cell_type": "code",
   "execution_count": 144,
   "id": "e9c926bc",
   "metadata": {},
   "outputs": [
    {
     "name": "stdout",
     "output_type": "stream",
     "text": [
      "29-09-2023\n"
     ]
    }
   ],
   "source": [
    "Auction_Date=soup.find_all('td')[4].text.strip()\n",
    "print(Auction_Date)"
   ]
  },
  {
   "cell_type": "code",
   "execution_count": 145,
   "id": "717f2085",
   "metadata": {
    "scrolled": true
   },
   "outputs": [
    {
     "name": "stdout",
     "output_type": "stream",
     "text": [
      "7500000\n"
     ]
    }
   ],
   "source": [
    "Reserve_Price=soup.find_all('td')[5].text.strip()\n",
    "print(Reserve_Price)"
   ]
  },
  {
   "cell_type": "code",
   "execution_count": null,
   "id": "0ff29beb",
   "metadata": {},
   "outputs": [],
   "source": [
    "import pandas as pd\n",
    "from bs4 import BeautifulSoup\n",
    "\n",
    "\n",
    "Auction_ID = []\n",
    "Bank = []\n",
    "Property_Details = []\n",
    "Application_Deadline = []\n",
    "Auction_Date = []\n",
    "Reserve_Price = []\n",
    "\n",
    "\n",
    "for row in Auction:\n",
    "    columns = row.find_all('td')\n",
    "    if len(columns) >= 6:\n",
    "        Auction_ID.append(columns[0].find('h4', class_='ui center aligned header').text)\n",
    "        Bank.append(columns[1].text.strip())\n",
    "        Property_Details.append(columns[2].text.strip())\n",
    "        Application_Deadline.append(columns[3].text.strip())\n",
    "        Auction_Date.append(columns[4].text.strip())\n",
    "        Reserve_Price.append(columns[5].text.strip())\n",
    "\n",
    "\n",
    "df = pd.DataFrame({\n",
    "    'Auction_ID': Auction_ID,\n",
    "    'Bank': Bank,\n",
    "    'Property_Details': Property_Details,\n",
    "    'Application_Deadline': Application_Deadline,\n",
    "    'Auction_Date': Auction_Date,\n",
    "    'Reserve_Price': Reserve_Price\n",
    "})\n",
    "\n",
    "\n",
    "df.index = df.index + 1\n"
   ]
  },
  {
   "cell_type": "code",
   "execution_count": 147,
   "id": "3d53d4ae",
   "metadata": {
    "scrolled": true
   },
   "outputs": [
    {
     "data": {
      "text/html": [
       "<div>\n",
       "<style scoped>\n",
       "    .dataframe tbody tr th:only-of-type {\n",
       "        vertical-align: middle;\n",
       "    }\n",
       "\n",
       "    .dataframe tbody tr th {\n",
       "        vertical-align: top;\n",
       "    }\n",
       "\n",
       "    .dataframe thead th {\n",
       "        text-align: right;\n",
       "    }\n",
       "</style>\n",
       "<table border=\"1\" class=\"dataframe\">\n",
       "  <thead>\n",
       "    <tr style=\"text-align: right;\">\n",
       "      <th></th>\n",
       "      <th>Auction_ID</th>\n",
       "      <th>Bank</th>\n",
       "      <th>Property_Details</th>\n",
       "      <th>Application_Deadline</th>\n",
       "      <th>Auction_Date</th>\n",
       "      <th>Reserve_Price</th>\n",
       "    </tr>\n",
       "  </thead>\n",
       "  <tbody>\n",
       "    <tr>\n",
       "      <th>1</th>\n",
       "      <td>1291371</td>\n",
       "      <td>Tata Capital Housing Finance ltd.</td>\n",
       "      <td>Land and Building</td>\n",
       "      <td>Kochi</td>\n",
       "      <td>29-09-2023</td>\n",
       "      <td>7500000</td>\n",
       "    </tr>\n",
       "    <tr>\n",
       "      <th>2</th>\n",
       "      <td>1291237</td>\n",
       "      <td>Ashoknagar Co-operative bank Ltd</td>\n",
       "      <td>Residential Plot</td>\n",
       "      <td>Bengaluru</td>\n",
       "      <td>25-09-2023</td>\n",
       "      <td>14000000</td>\n",
       "    </tr>\n",
       "    <tr>\n",
       "      <th>3</th>\n",
       "      <td>1291223</td>\n",
       "      <td>Tata Capital Housing Finance ltd.</td>\n",
       "      <td>Land</td>\n",
       "      <td>Guntur</td>\n",
       "      <td>29-09-2023</td>\n",
       "      <td>1450000</td>\n",
       "    </tr>\n",
       "    <tr>\n",
       "      <th>4</th>\n",
       "      <td>1291222</td>\n",
       "      <td>Tata Capital Housing Finance ltd.</td>\n",
       "      <td>Residential Plot</td>\n",
       "      <td>Guntur</td>\n",
       "      <td>29-09-2023</td>\n",
       "      <td>799000</td>\n",
       "    </tr>\n",
       "    <tr>\n",
       "      <th>5</th>\n",
       "      <td>1291221</td>\n",
       "      <td>Tata Capital Housing Finance ltd.</td>\n",
       "      <td>Plot</td>\n",
       "      <td>Vijayawada</td>\n",
       "      <td>29-09-2023</td>\n",
       "      <td>575000</td>\n",
       "    </tr>\n",
       "    <tr>\n",
       "      <th>6</th>\n",
       "      <td>1291220</td>\n",
       "      <td>Tata Capital Housing Finance ltd.</td>\n",
       "      <td>Plot</td>\n",
       "      <td>Vijayawada</td>\n",
       "      <td>29-09-2023</td>\n",
       "      <td>1460000</td>\n",
       "    </tr>\n",
       "    <tr>\n",
       "      <th>7</th>\n",
       "      <td>1291219</td>\n",
       "      <td>Tata Capital Housing Finance ltd.</td>\n",
       "      <td>Residential Plot</td>\n",
       "      <td>Vijayawada</td>\n",
       "      <td>29-09-2023</td>\n",
       "      <td>590000</td>\n",
       "    </tr>\n",
       "    <tr>\n",
       "      <th>8</th>\n",
       "      <td>1291218</td>\n",
       "      <td>Tata Capital Housing Finance ltd.</td>\n",
       "      <td>Land and Building</td>\n",
       "      <td>Vijayawada</td>\n",
       "      <td>29-09-2023</td>\n",
       "      <td>1500000</td>\n",
       "    </tr>\n",
       "    <tr>\n",
       "      <th>9</th>\n",
       "      <td>1291217</td>\n",
       "      <td>Tata Capital Housing Finance ltd.</td>\n",
       "      <td>Residential Flat</td>\n",
       "      <td>Vijayawada</td>\n",
       "      <td>29-09-2023</td>\n",
       "      <td>1260000</td>\n",
       "    </tr>\n",
       "    <tr>\n",
       "      <th>10</th>\n",
       "      <td>1291216</td>\n",
       "      <td>Tata Capital Housing Finance ltd.</td>\n",
       "      <td>House</td>\n",
       "      <td>Rajahmundry</td>\n",
       "      <td>29-09-2023</td>\n",
       "      <td>1500000</td>\n",
       "    </tr>\n",
       "  </tbody>\n",
       "</table>\n",
       "</div>"
      ],
      "text/plain": [
       "   Auction_ID                               Bank   Property_Details  \\\n",
       "1     1291371  Tata Capital Housing Finance ltd.  Land and Building   \n",
       "2     1291237   Ashoknagar Co-operative bank Ltd   Residential Plot   \n",
       "3     1291223  Tata Capital Housing Finance ltd.               Land   \n",
       "4     1291222  Tata Capital Housing Finance ltd.   Residential Plot   \n",
       "5     1291221  Tata Capital Housing Finance ltd.               Plot   \n",
       "6     1291220  Tata Capital Housing Finance ltd.               Plot   \n",
       "7     1291219  Tata Capital Housing Finance ltd.   Residential Plot   \n",
       "8     1291218  Tata Capital Housing Finance ltd.  Land and Building   \n",
       "9     1291217  Tata Capital Housing Finance ltd.   Residential Flat   \n",
       "10    1291216  Tata Capital Housing Finance ltd.              House   \n",
       "\n",
       "   Application_Deadline Auction_Date Reserve_Price  \n",
       "1                 Kochi   29-09-2023       7500000  \n",
       "2             Bengaluru   25-09-2023      14000000  \n",
       "3                Guntur   29-09-2023       1450000  \n",
       "4                Guntur   29-09-2023        799000  \n",
       "5            Vijayawada   29-09-2023        575000  \n",
       "6            Vijayawada   29-09-2023       1460000  \n",
       "7            Vijayawada   29-09-2023        590000  \n",
       "8            Vijayawada   29-09-2023       1500000  \n",
       "9            Vijayawada   29-09-2023       1260000  \n",
       "10          Rajahmundry   29-09-2023       1500000  "
      ]
     },
     "execution_count": 147,
     "metadata": {},
     "output_type": "execute_result"
    }
   ],
   "source": [
    "df"
   ]
  },
  {
   "cell_type": "code",
   "execution_count": null,
   "id": "f48f175b",
   "metadata": {},
   "outputs": [],
   "source": [
    "import requests\n",
    "from bs4 import BeautifulSoup\n",
    "import pandas as pd\n",
    "import concurrent.futures\n",
    "import time\n",
    "\n",
    "\n",
    "def scrape_page(page_number):\n",
    "    url = f'https://foreclosureindia.com/bank-auctions/assam/{page_number}'  # Replace with the actual URL\n",
    "    response = requests.get(url)\n",
    "\n",
    "    if response.status_code == 200:\n",
    "        soup = BeautifulSoup(response.text, 'html.parser')\n",
    "        \n",
    "        \n",
    "        Auction_ID = []\n",
    "        Bank = []\n",
    "        Property_Details = []\n",
    "        Application_Deadline = []\n",
    "        Auction_Date = []\n",
    "        Reserve_Price = []\n",
    "\n",
    "       \n",
    "        for row in soup.find_all('tr', class_='top aligned'):\n",
    "            columns = row.find_all('td')\n",
    "            if len(columns) >= 6:\n",
    "                Auction_ID.append(columns[0].find('h4', class_='ui center aligned header').text)\n",
    "                Bank.append(columns[1].text.strip())\n",
    "                Property_Details.append(columns[2].text.strip())\n",
    "                Application_Deadline.append(columns[3].text.strip())\n",
    "                Auction_Date.append(columns[4].text.strip())\n",
    "                Reserve_Price.append(columns[5].text.strip())\n",
    "\n",
    "        \n",
    "        return {\n",
    "            'Auction_ID': Auction_ID,\n",
    "            'Bank': Bank,\n",
    "            'Property_Details': Property_Details,\n",
    "            'Application_Deadline': Application_Deadline,\n",
    "            'Auction_Date': Auction_Date,\n",
    "            'Reserve_Price': Reserve_Price\n",
    "        }\n",
    "    else:\n",
    "        print(f\"Failed to fetch page {page_number}. Status code: {response.status_code}\")\n",
    "        return None\n",
    "\n",
    "\n",
    "start_page = 1\n",
    "end_page = 2000  \n",
    "\n",
    "\n",
    "page_numbers = list(range(start_page, end_page + 1))\n",
    "\n",
    "\n",
    "all_data = []\n",
    "\n",
    "\n",
    "def process_pages(page_number):\n",
    "    data = scrape_page(page_number)\n",
    "    if data:\n",
    "        all_data.append(data)\n",
    "\n",
    "\n",
    "with concurrent.futures.ThreadPoolExecutor(max_workers=5) as executor:\n",
    "    executor.map(process_pages, page_numbers)\n",
    "\n",
    "\n",
    "dfs = [pd.DataFrame(data) for data in all_data]\n",
    "df = pd.concat(dfs, ignore_index=True)\n",
    "\n",
    "\n",
    "\n",
    "time.sleep(1)\n",
    "\n"
   ]
  },
  {
   "cell_type": "code",
   "execution_count": 149,
   "id": "5213f08e",
   "metadata": {},
   "outputs": [
    {
     "data": {
      "text/html": [
       "<div>\n",
       "<style scoped>\n",
       "    .dataframe tbody tr th:only-of-type {\n",
       "        vertical-align: middle;\n",
       "    }\n",
       "\n",
       "    .dataframe tbody tr th {\n",
       "        vertical-align: top;\n",
       "    }\n",
       "\n",
       "    .dataframe thead th {\n",
       "        text-align: right;\n",
       "    }\n",
       "</style>\n",
       "<table border=\"1\" class=\"dataframe\">\n",
       "  <thead>\n",
       "    <tr style=\"text-align: right;\">\n",
       "      <th></th>\n",
       "      <th>Auction_ID</th>\n",
       "      <th>Bank</th>\n",
       "      <th>Property_Details</th>\n",
       "      <th>Application_Deadline</th>\n",
       "      <th>Auction_Date</th>\n",
       "      <th>Reserve_Price</th>\n",
       "    </tr>\n",
       "  </thead>\n",
       "  <tbody>\n",
       "    <tr>\n",
       "      <th>0</th>\n",
       "      <td>1291230</td>\n",
       "      <td>Punjab National Bank</td>\n",
       "      <td>Commercial Property in Kamrup</td>\n",
       "      <td>11-09-2023</td>\n",
       "      <td>12-09-2023</td>\n",
       "      <td>3800000</td>\n",
       "    </tr>\n",
       "    <tr>\n",
       "      <th>1</th>\n",
       "      <td>1291227</td>\n",
       "      <td>Punjab National Bank</td>\n",
       "      <td>Flat in Kamrup</td>\n",
       "      <td>11-09-2023</td>\n",
       "      <td>12-09-2023</td>\n",
       "      <td>3000000</td>\n",
       "    </tr>\n",
       "    <tr>\n",
       "      <th>2</th>\n",
       "      <td>1291214</td>\n",
       "      <td>Punjab National Bank</td>\n",
       "      <td>Flat in Dispur</td>\n",
       "      <td>11-09-2023</td>\n",
       "      <td>12-09-2023</td>\n",
       "      <td>5860000</td>\n",
       "    </tr>\n",
       "    <tr>\n",
       "      <th>3</th>\n",
       "      <td>1291213</td>\n",
       "      <td>Punjab National Bank</td>\n",
       "      <td>Land in Golaghat</td>\n",
       "      <td>11-09-2023</td>\n",
       "      <td>12-09-2023</td>\n",
       "      <td>7550000</td>\n",
       "    </tr>\n",
       "    <tr>\n",
       "      <th>4</th>\n",
       "      <td>1291188</td>\n",
       "      <td>Punjab National Bank</td>\n",
       "      <td>Land and Building in Sibsagar</td>\n",
       "      <td>20-09-2023</td>\n",
       "      <td>21-09-2023</td>\n",
       "      <td>850000</td>\n",
       "    </tr>\n",
       "    <tr>\n",
       "      <th>...</th>\n",
       "      <td>...</td>\n",
       "      <td>...</td>\n",
       "      <td>...</td>\n",
       "      <td>...</td>\n",
       "      <td>...</td>\n",
       "      <td>...</td>\n",
       "    </tr>\n",
       "    <tr>\n",
       "      <th>668</th>\n",
       "      <td>427679</td>\n",
       "      <td>Punjab National Bank</td>\n",
       "      <td>Plot in Assam</td>\n",
       "      <td>20-03-2019</td>\n",
       "      <td>21-03-2019</td>\n",
       "      <td>3500000</td>\n",
       "    </tr>\n",
       "    <tr>\n",
       "      <th>669</th>\n",
       "      <td>427680</td>\n",
       "      <td>Punjab National Bank</td>\n",
       "      <td>Plot in Assam</td>\n",
       "      <td>20-03-2019</td>\n",
       "      <td>21-03-2019</td>\n",
       "      <td>495000</td>\n",
       "    </tr>\n",
       "    <tr>\n",
       "      <th>670</th>\n",
       "      <td>423893</td>\n",
       "      <td>Canara Bank</td>\n",
       "      <td>Land in Assam</td>\n",
       "      <td>22-03-2019</td>\n",
       "      <td>25-03-2019</td>\n",
       "      <td>2011000</td>\n",
       "    </tr>\n",
       "    <tr>\n",
       "      <th>671</th>\n",
       "      <td>423894</td>\n",
       "      <td>Canara Bank</td>\n",
       "      <td>Land and Building in Assam</td>\n",
       "      <td>22-03-2019</td>\n",
       "      <td>25-03-2019</td>\n",
       "      <td>2800000</td>\n",
       "    </tr>\n",
       "    <tr>\n",
       "      <th>672</th>\n",
       "      <td>423879</td>\n",
       "      <td>Canara Bank</td>\n",
       "      <td>Land and Building in Assam</td>\n",
       "      <td>22-03-2019</td>\n",
       "      <td>25-03-2019</td>\n",
       "      <td>2000000</td>\n",
       "    </tr>\n",
       "  </tbody>\n",
       "</table>\n",
       "<p>673 rows × 6 columns</p>\n",
       "</div>"
      ],
      "text/plain": [
       "    Auction_ID                  Bank               Property_Details  \\\n",
       "0      1291230  Punjab National Bank  Commercial Property in Kamrup   \n",
       "1      1291227  Punjab National Bank                 Flat in Kamrup   \n",
       "2      1291214  Punjab National Bank                 Flat in Dispur   \n",
       "3      1291213  Punjab National Bank               Land in Golaghat   \n",
       "4      1291188  Punjab National Bank  Land and Building in Sibsagar   \n",
       "..         ...                   ...                            ...   \n",
       "668     427679  Punjab National Bank                  Plot in Assam   \n",
       "669     427680  Punjab National Bank                  Plot in Assam   \n",
       "670     423893           Canara Bank                  Land in Assam   \n",
       "671     423894           Canara Bank     Land and Building in Assam   \n",
       "672     423879           Canara Bank     Land and Building in Assam   \n",
       "\n",
       "    Application_Deadline Auction_Date Reserve_Price  \n",
       "0             11-09-2023   12-09-2023       3800000  \n",
       "1             11-09-2023   12-09-2023       3000000  \n",
       "2             11-09-2023   12-09-2023       5860000  \n",
       "3             11-09-2023   12-09-2023       7550000  \n",
       "4             20-09-2023   21-09-2023        850000  \n",
       "..                   ...          ...           ...  \n",
       "668           20-03-2019   21-03-2019       3500000  \n",
       "669           20-03-2019   21-03-2019        495000  \n",
       "670           22-03-2019   25-03-2019       2011000  \n",
       "671           22-03-2019   25-03-2019       2800000  \n",
       "672           22-03-2019   25-03-2019       2000000  \n",
       "\n",
       "[673 rows x 6 columns]"
      ]
     },
     "execution_count": 149,
     "metadata": {},
     "output_type": "execute_result"
    }
   ],
   "source": [
    "df"
   ]
  },
  {
   "cell_type": "code",
   "execution_count": 150,
   "id": "6bca7894",
   "metadata": {},
   "outputs": [
    {
     "name": "stdout",
     "output_type": "stream",
     "text": [
      "Data has been appended to foreclosure_india_data.csv\n"
     ]
    }
   ],
   "source": [
    "csv_file = \"foreclosure_india_data.csv\"\n",
    "df.to_csv(csv_file, mode='a', index=False, header=False, encoding='utf-8')\n",
    "\n",
    "print(f\"Data has been appended to {csv_file}\")\n"
   ]
  },
  {
   "cell_type": "code",
   "execution_count": null,
   "id": "8976204c",
   "metadata": {},
   "outputs": [],
   "source": []
  }
 ],
 "metadata": {
  "kernelspec": {
   "display_name": "Python 3 (ipykernel)",
   "language": "python",
   "name": "python3"
  },
  "language_info": {
   "codemirror_mode": {
    "name": "ipython",
    "version": 3
   },
   "file_extension": ".py",
   "mimetype": "text/x-python",
   "name": "python",
   "nbconvert_exporter": "python",
   "pygments_lexer": "ipython3",
   "version": "3.11.3"
  }
 },
 "nbformat": 4,
 "nbformat_minor": 5
}
